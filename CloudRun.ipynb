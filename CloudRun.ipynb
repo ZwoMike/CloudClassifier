{
 "cells": [
  {
   "cell_type": "code",
   "execution_count": 1,
   "metadata": {},
   "outputs": [],
   "source": [
    "from fastbook import *\n",
    "from fastai.vision.widgets import *"
   ]
  },
  {
   "cell_type": "code",
   "execution_count": 2,
   "metadata": {},
   "outputs": [
    {
     "data": {
      "application/vnd.jupyter.widget-view+json": {
       "model_id": "b701315160454790bb636cd12ff03ec5",
       "version_major": 2,
       "version_minor": 0
      },
      "text/plain": [
       "VBox(children=(Label(value='Select your Cloud-Image !'), FileUpload(value={}, description='Upload'), Button(de…"
      ]
     },
     "metadata": {},
     "output_type": "display_data"
    }
   ],
   "source": [
    "#*******************************************************\n",
    "#*               Load the model from path\n",
    "#*******************************************************\n",
    "sPath ='G:/01_Machine_Learning/CloudCassifier/'\n",
    "sfName ='CloudClassifier.pkl'\n",
    "\n",
    "learn_inf = load_learner(sPath+sfName)\n",
    "\n",
    "#*******************************************************\n",
    "#*               define all widget elements\n",
    "#*******************************************************\n",
    "out_pl  = widgets.Output()\n",
    "lbl_pred = widgets.Label()\n",
    "lbl_perc = widgets.Label()\n",
    "btn_upload = widgets.FileUpload()\n",
    "btn_run = widgets.Button(description='Classify')\n",
    "\n",
    "#*******************************************************\n",
    "#*               get information out of image\n",
    "#*******************************************************\n",
    "def on_click_classify(change):\n",
    "    img = PILImage.create(btn_upload.data[-1])\n",
    "    out_pl.clear_output()\n",
    "    with out_pl: \n",
    "        display(img.to_thumb(128,128))\n",
    "    \n",
    "    pred,pred_idx,probs = learn_inf.predict(img)\n",
    "    lbl_pred.value = f'Prediction: {pred};' \n",
    "    lbl_perc.value = f'Probability: {probs[pred_idx]:.04f}'\n",
    "\n",
    "#*******************************************************\n",
    "#*               bind function to button\n",
    "#*******************************************************\n",
    "btn_run.on_click(on_click_classify)\n",
    "\n",
    "#*******************************************************\n",
    "#*               define widget box\n",
    "#*******************************************************\n",
    "VBox([widgets.Label('Select your Cloud-Image !'),\n",
    "     btn_upload, btn_run, out_pl, lbl_pred, lbl_perc])"
   ]
  }
 ],
 "metadata": {
  "kernelspec": {
   "display_name": "Python 3",
   "language": "python",
   "name": "python3"
  },
  "language_info": {
   "codemirror_mode": {
    "name": "ipython",
    "version": 3
   },
   "file_extension": ".py",
   "mimetype": "text/x-python",
   "name": "python",
   "nbconvert_exporter": "python",
   "pygments_lexer": "ipython3",
   "version": "3.7.9"
  }
 },
 "nbformat": 4,
 "nbformat_minor": 4
}
